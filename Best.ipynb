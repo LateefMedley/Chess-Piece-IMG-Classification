{
  "nbformat": 4,
  "nbformat_minor": 0,
  "metadata": {
    "kernelspec": {
      "display_name": "Python 3",
      "language": "python",
      "name": "python3"
    },
    "language_info": {
      "codemirror_mode": {
        "name": "ipython",
        "version": 3
      },
      "file_extension": ".py",
      "mimetype": "text/x-python",
      "name": "python",
      "nbconvert_exporter": "python",
      "pygments_lexer": "ipython3",
      "version": "3.7.4"
    },
    "colab": {
      "name": "Best.ipynb",
      "provenance": []
    }
  },
  "cells": [
    {
      "cell_type": "code",
      "metadata": {
        "id": "2cIoGR5x62AJ",
        "colab_type": "code",
        "colab": {
          "resources": {
            "http://localhost:8080/nbextensions/google.colab/files.js": {
              "data": "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",
              "ok": true,
              "headers": [
                [
                  "content-type",
                  "application/javascript"
                ]
              ],
              "status": 200,
              "status_text": ""
            }
          },
          "base_uri": "https://localhost:8080/",
          "height": 74
        },
        "outputId": "bdb8f1fb-00a5-4c6a-e44a-96378b03cf21"
      },
      "source": [
        "# Importing Libraries \n",
        "import warnings\n",
        "warnings.filterwarnings(\"ignore\")\n",
        "import numpy as np\n",
        "import pandas as pd\n",
        "import io\n",
        "import tensorflow as tf\n",
        "from tensorflow import keras\n",
        "from sklearn.model_selection import train_test_split\n",
        "from tensorflow.keras.models import Sequential \n",
        "from tensorflow.keras.layers import Dense\n",
        "from sklearn.metrics import confusion_matrix, classification_report\n",
        "\n",
        "# Uploading data\n",
        "from google.colab import files\n",
        "uploaded = files.upload()"
      ],
      "execution_count": 1,
      "outputs": [
        {
          "output_type": "display_data",
          "data": {
            "text/html": [
              "\n",
              "     <input type=\"file\" id=\"files-f9569f16-42d5-4f21-824e-4fc0e5c0691e\" name=\"files[]\" multiple disabled />\n",
              "     <output id=\"result-f9569f16-42d5-4f21-824e-4fc0e5c0691e\">\n",
              "      Upload widget is only available when the cell has been executed in the\n",
              "      current browser session. Please rerun this cell to enable.\n",
              "      </output>\n",
              "      <script src=\"/nbextensions/google.colab/files.js\"></script> "
            ],
            "text/plain": [
              "<IPython.core.display.HTML object>"
            ]
          },
          "metadata": {
            "tags": []
          }
        },
        {
          "output_type": "stream",
          "text": [
            "Saving img_df.csv to img_df.csv\n"
          ],
          "name": "stdout"
        }
      ]
    },
    {
      "cell_type": "code",
      "metadata": {
        "id": "_7jjUmXj62AN",
        "colab_type": "code",
        "colab": {
          "base_uri": "https://localhost:8080/",
          "height": 1000
        },
        "outputId": "85eb9b8f-90fa-438c-e456-b2368ae1a4b8"
      },
      "source": [
        "# Putting data into a pandas DataFrame\n",
        "img_df = pd.read_csv(io.BytesIO(uploaded['img_df.csv']))\n",
        "X = img_df.iloc[:, :-1]\n",
        "y = pd.get_dummies(img_df.iloc[:, -1:])\n",
        "X_train, X_test, y_train, y_test = train_test_split(X, y, test_size=.25)\n",
        "\n",
        "# Creating & Initiating Model\n",
        "model = keras.Sequential([keras.layers.Dense(1600, input_shape=(40449,), activation='relu'),\n",
        "                          keras.layers.Dense(1600, activation=\"relu\"),\n",
        "                          keras.layers.Dense(6, activation=\"softmax\")\n",
        "])\n",
        "\n",
        "model.compile(optimizer='Adadelta', loss='categorical_crossentropy', metrics=['categorical_accuracy'])\n",
        "\n",
        "# Setting up verbose=1 - prints out some results after each epoch\n",
        "model.fit(X_train, y_train, batch_size=6, epochs=100, verbose=1)\n",
        "\n",
        "# Model Evalution\n",
        "test_loss, test_acc = model.evaluate(X_test, y_test, verbose=0)\n",
        "\n",
        "model.summary()\n",
        "\n",
        "print(\"Test Loss: \", test_loss)\n",
        "print(\"Test Accuracy: \", test_acc)"
      ],
      "execution_count": 35,
      "outputs": [
        {
          "output_type": "stream",
          "text": [
            "Epoch 1/100\n",
            "70/70 [==============================] - 23s 323ms/step - loss: 1.9136 - categorical_accuracy: 0.1562\n",
            "Epoch 2/100\n",
            "70/70 [==============================] - 23s 323ms/step - loss: 1.7877 - categorical_accuracy: 0.2236\n",
            "Epoch 3/100\n",
            "70/70 [==============================] - 23s 323ms/step - loss: 1.7437 - categorical_accuracy: 0.2716\n",
            "Epoch 4/100\n",
            "70/70 [==============================] - 23s 325ms/step - loss: 1.6974 - categorical_accuracy: 0.2668\n",
            "Epoch 5/100\n",
            "70/70 [==============================] - 23s 324ms/step - loss: 1.6606 - categorical_accuracy: 0.3341\n",
            "Epoch 6/100\n",
            "70/70 [==============================] - 23s 324ms/step - loss: 1.6496 - categorical_accuracy: 0.3293\n",
            "Epoch 7/100\n",
            "70/70 [==============================] - 23s 324ms/step - loss: 1.6007 - categorical_accuracy: 0.3918\n",
            "Epoch 8/100\n",
            "70/70 [==============================] - 23s 324ms/step - loss: 1.5774 - categorical_accuracy: 0.4014\n",
            "Epoch 9/100\n",
            "70/70 [==============================] - 23s 323ms/step - loss: 1.5877 - categorical_accuracy: 0.3678\n",
            "Epoch 10/100\n",
            "70/70 [==============================] - 23s 323ms/step - loss: 1.5523 - categorical_accuracy: 0.3870\n",
            "Epoch 11/100\n",
            "70/70 [==============================] - 23s 323ms/step - loss: 1.5497 - categorical_accuracy: 0.4062\n",
            "Epoch 12/100\n",
            "70/70 [==============================] - 23s 324ms/step - loss: 1.5213 - categorical_accuracy: 0.4303\n",
            "Epoch 13/100\n",
            "70/70 [==============================] - 23s 323ms/step - loss: 1.4924 - categorical_accuracy: 0.4591\n",
            "Epoch 14/100\n",
            "70/70 [==============================] - 23s 323ms/step - loss: 1.4812 - categorical_accuracy: 0.4688\n",
            "Epoch 15/100\n",
            "70/70 [==============================] - 23s 323ms/step - loss: 1.4669 - categorical_accuracy: 0.4760\n",
            "Epoch 16/100\n",
            "70/70 [==============================] - 23s 325ms/step - loss: 1.4650 - categorical_accuracy: 0.4567\n",
            "Epoch 17/100\n",
            "70/70 [==============================] - 23s 324ms/step - loss: 1.4390 - categorical_accuracy: 0.5072\n",
            "Epoch 18/100\n",
            "70/70 [==============================] - 23s 325ms/step - loss: 1.4389 - categorical_accuracy: 0.4760\n",
            "Epoch 19/100\n",
            "70/70 [==============================] - 23s 323ms/step - loss: 1.4259 - categorical_accuracy: 0.5072\n",
            "Epoch 20/100\n",
            "70/70 [==============================] - 24s 346ms/step - loss: 1.4061 - categorical_accuracy: 0.5312\n",
            "Epoch 21/100\n",
            "70/70 [==============================] - 23s 325ms/step - loss: 1.3906 - categorical_accuracy: 0.5192\n",
            "Epoch 22/100\n",
            "70/70 [==============================] - 23s 323ms/step - loss: 1.3816 - categorical_accuracy: 0.5168\n",
            "Epoch 23/100\n",
            "70/70 [==============================] - 23s 324ms/step - loss: 1.3850 - categorical_accuracy: 0.5433\n",
            "Epoch 24/100\n",
            "70/70 [==============================] - 23s 323ms/step - loss: 1.3446 - categorical_accuracy: 0.5312\n",
            "Epoch 25/100\n",
            "70/70 [==============================] - 23s 323ms/step - loss: 1.3540 - categorical_accuracy: 0.5361\n",
            "Epoch 26/100\n",
            "70/70 [==============================] - 23s 324ms/step - loss: 1.3485 - categorical_accuracy: 0.5337\n",
            "Epoch 27/100\n",
            "70/70 [==============================] - 23s 324ms/step - loss: 1.3494 - categorical_accuracy: 0.5312\n",
            "Epoch 28/100\n",
            "70/70 [==============================] - 23s 324ms/step - loss: 1.3087 - categorical_accuracy: 0.5673\n",
            "Epoch 29/100\n",
            "70/70 [==============================] - 23s 324ms/step - loss: 1.3046 - categorical_accuracy: 0.5721\n",
            "Epoch 30/100\n",
            "70/70 [==============================] - 23s 322ms/step - loss: 1.2924 - categorical_accuracy: 0.5649\n",
            "Epoch 31/100\n",
            "70/70 [==============================] - 23s 323ms/step - loss: 1.3068 - categorical_accuracy: 0.5673\n",
            "Epoch 32/100\n",
            "70/70 [==============================] - 23s 325ms/step - loss: 1.2686 - categorical_accuracy: 0.5938\n",
            "Epoch 33/100\n",
            "70/70 [==============================] - 23s 324ms/step - loss: 1.2629 - categorical_accuracy: 0.5913\n",
            "Epoch 34/100\n",
            "70/70 [==============================] - 23s 323ms/step - loss: 1.2425 - categorical_accuracy: 0.6058\n",
            "Epoch 35/100\n",
            "70/70 [==============================] - 23s 325ms/step - loss: 1.2541 - categorical_accuracy: 0.5841\n",
            "Epoch 36/100\n",
            "70/70 [==============================] - 23s 323ms/step - loss: 1.2348 - categorical_accuracy: 0.5865\n",
            "Epoch 37/100\n",
            "70/70 [==============================] - 23s 325ms/step - loss: 1.2544 - categorical_accuracy: 0.6154\n",
            "Epoch 38/100\n",
            "70/70 [==============================] - 23s 323ms/step - loss: 1.2266 - categorical_accuracy: 0.6250\n",
            "Epoch 39/100\n",
            "70/70 [==============================] - 23s 323ms/step - loss: 1.2091 - categorical_accuracy: 0.5889\n",
            "Epoch 40/100\n",
            "70/70 [==============================] - 23s 324ms/step - loss: 1.2160 - categorical_accuracy: 0.6034\n",
            "Epoch 41/100\n",
            "70/70 [==============================] - 23s 323ms/step - loss: 1.1930 - categorical_accuracy: 0.6106\n",
            "Epoch 42/100\n",
            "70/70 [==============================] - 23s 324ms/step - loss: 1.1922 - categorical_accuracy: 0.6394\n",
            "Epoch 43/100\n",
            "70/70 [==============================] - 23s 324ms/step - loss: 1.1905 - categorical_accuracy: 0.6274\n",
            "Epoch 44/100\n",
            "70/70 [==============================] - 23s 324ms/step - loss: 1.1742 - categorical_accuracy: 0.6370\n",
            "Epoch 45/100\n",
            "70/70 [==============================] - 23s 325ms/step - loss: 1.1672 - categorical_accuracy: 0.6178\n",
            "Epoch 46/100\n",
            "70/70 [==============================] - 23s 324ms/step - loss: 1.1730 - categorical_accuracy: 0.6370\n",
            "Epoch 47/100\n",
            "70/70 [==============================] - 24s 346ms/step - loss: 1.1437 - categorical_accuracy: 0.6418\n",
            "Epoch 48/100\n",
            "70/70 [==============================] - 23s 324ms/step - loss: 1.1341 - categorical_accuracy: 0.6587\n",
            "Epoch 49/100\n",
            "70/70 [==============================] - 23s 324ms/step - loss: 1.1329 - categorical_accuracy: 0.6418\n",
            "Epoch 50/100\n",
            "70/70 [==============================] - 23s 323ms/step - loss: 1.1220 - categorical_accuracy: 0.6562\n",
            "Epoch 51/100\n",
            "70/70 [==============================] - 23s 325ms/step - loss: 1.1087 - categorical_accuracy: 0.6731\n",
            "Epoch 52/100\n",
            "70/70 [==============================] - 23s 324ms/step - loss: 1.1146 - categorical_accuracy: 0.6683\n",
            "Epoch 53/100\n",
            "70/70 [==============================] - 23s 324ms/step - loss: 1.1075 - categorical_accuracy: 0.6779\n",
            "Epoch 54/100\n",
            "70/70 [==============================] - 23s 323ms/step - loss: 1.0820 - categorical_accuracy: 0.6683\n",
            "Epoch 55/100\n",
            "70/70 [==============================] - 23s 323ms/step - loss: 1.1114 - categorical_accuracy: 0.6827\n",
            "Epoch 56/100\n",
            "70/70 [==============================] - 23s 323ms/step - loss: 1.0891 - categorical_accuracy: 0.6731\n",
            "Epoch 57/100\n",
            "70/70 [==============================] - 23s 323ms/step - loss: 1.0679 - categorical_accuracy: 0.6851\n",
            "Epoch 58/100\n",
            "70/70 [==============================] - 23s 325ms/step - loss: 1.0750 - categorical_accuracy: 0.6899\n",
            "Epoch 59/100\n",
            "70/70 [==============================] - 23s 324ms/step - loss: 1.0660 - categorical_accuracy: 0.6611\n",
            "Epoch 60/100\n",
            "70/70 [==============================] - 23s 323ms/step - loss: 1.0585 - categorical_accuracy: 0.6923\n",
            "Epoch 61/100\n",
            "70/70 [==============================] - 23s 324ms/step - loss: 1.0298 - categorical_accuracy: 0.7019\n",
            "Epoch 62/100\n",
            "70/70 [==============================] - 23s 324ms/step - loss: 1.0324 - categorical_accuracy: 0.6875\n",
            "Epoch 63/100\n",
            "70/70 [==============================] - 23s 323ms/step - loss: 1.0426 - categorical_accuracy: 0.6875\n",
            "Epoch 64/100\n",
            "70/70 [==============================] - 23s 324ms/step - loss: 1.0464 - categorical_accuracy: 0.6779\n",
            "Epoch 65/100\n",
            "70/70 [==============================] - 23s 323ms/step - loss: 1.0326 - categorical_accuracy: 0.7067\n",
            "Epoch 66/100\n",
            "70/70 [==============================] - 23s 324ms/step - loss: 1.0200 - categorical_accuracy: 0.7091\n",
            "Epoch 67/100\n",
            "70/70 [==============================] - 23s 323ms/step - loss: 1.0239 - categorical_accuracy: 0.6995\n",
            "Epoch 68/100\n",
            "70/70 [==============================] - 23s 324ms/step - loss: 1.0151 - categorical_accuracy: 0.7091\n",
            "Epoch 69/100\n",
            "70/70 [==============================] - 23s 323ms/step - loss: 1.0077 - categorical_accuracy: 0.7212\n",
            "Epoch 70/100\n",
            "70/70 [==============================] - 23s 323ms/step - loss: 1.0121 - categorical_accuracy: 0.6923\n",
            "Epoch 71/100\n",
            "70/70 [==============================] - 23s 323ms/step - loss: 0.9783 - categorical_accuracy: 0.7308\n",
            "Epoch 72/100\n",
            "70/70 [==============================] - 23s 325ms/step - loss: 0.9841 - categorical_accuracy: 0.7236\n",
            "Epoch 73/100\n",
            "70/70 [==============================] - 24s 345ms/step - loss: 0.9890 - categorical_accuracy: 0.7212\n",
            "Epoch 74/100\n",
            "70/70 [==============================] - 23s 324ms/step - loss: 0.9818 - categorical_accuracy: 0.7284\n",
            "Epoch 75/100\n",
            "70/70 [==============================] - 23s 323ms/step - loss: 0.9717 - categorical_accuracy: 0.7404\n",
            "Epoch 76/100\n",
            "70/70 [==============================] - 23s 324ms/step - loss: 0.9685 - categorical_accuracy: 0.7067\n",
            "Epoch 77/100\n",
            "70/70 [==============================] - 23s 324ms/step - loss: 0.9723 - categorical_accuracy: 0.7260\n",
            "Epoch 78/100\n",
            "70/70 [==============================] - 23s 323ms/step - loss: 0.9509 - categorical_accuracy: 0.7404\n",
            "Epoch 79/100\n",
            "70/70 [==============================] - 23s 325ms/step - loss: 0.9478 - categorical_accuracy: 0.7644\n",
            "Epoch 80/100\n",
            "70/70 [==============================] - 23s 323ms/step - loss: 0.9444 - categorical_accuracy: 0.7356\n",
            "Epoch 81/100\n",
            "70/70 [==============================] - 23s 323ms/step - loss: 0.9448 - categorical_accuracy: 0.7404\n",
            "Epoch 82/100\n",
            "70/70 [==============================] - 23s 323ms/step - loss: 0.9238 - categorical_accuracy: 0.7356\n",
            "Epoch 83/100\n",
            "70/70 [==============================] - 23s 322ms/step - loss: 0.9228 - categorical_accuracy: 0.7356\n",
            "Epoch 84/100\n",
            "70/70 [==============================] - 23s 331ms/step - loss: 0.9277 - categorical_accuracy: 0.7500\n",
            "Epoch 85/100\n",
            "70/70 [==============================] - 23s 324ms/step - loss: 0.9302 - categorical_accuracy: 0.7404\n",
            "Epoch 86/100\n",
            "70/70 [==============================] - 23s 323ms/step - loss: 0.9159 - categorical_accuracy: 0.7500\n",
            "Epoch 87/100\n",
            "70/70 [==============================] - 23s 324ms/step - loss: 0.9020 - categorical_accuracy: 0.7452\n",
            "Epoch 88/100\n",
            "70/70 [==============================] - 23s 324ms/step - loss: 0.9204 - categorical_accuracy: 0.7356\n",
            "Epoch 89/100\n",
            "70/70 [==============================] - 23s 326ms/step - loss: 0.9000 - categorical_accuracy: 0.7524\n",
            "Epoch 90/100\n",
            "70/70 [==============================] - 23s 324ms/step - loss: 0.8796 - categorical_accuracy: 0.7476\n",
            "Epoch 91/100\n",
            "70/70 [==============================] - 23s 325ms/step - loss: 0.8860 - categorical_accuracy: 0.7596\n",
            "Epoch 92/100\n",
            "70/70 [==============================] - 23s 326ms/step - loss: 0.8942 - categorical_accuracy: 0.7861\n",
            "Epoch 93/100\n",
            "70/70 [==============================] - 23s 324ms/step - loss: 0.8758 - categorical_accuracy: 0.7692\n",
            "Epoch 94/100\n",
            "70/70 [==============================] - 23s 323ms/step - loss: 0.8708 - categorical_accuracy: 0.7500\n",
            "Epoch 95/100\n",
            "70/70 [==============================] - 23s 325ms/step - loss: 0.8626 - categorical_accuracy: 0.7788\n",
            "Epoch 96/100\n",
            "70/70 [==============================] - 23s 324ms/step - loss: 0.8670 - categorical_accuracy: 0.7668\n",
            "Epoch 97/100\n",
            "70/70 [==============================] - 23s 325ms/step - loss: 0.8588 - categorical_accuracy: 0.7404\n",
            "Epoch 98/100\n",
            "70/70 [==============================] - 23s 323ms/step - loss: 0.8466 - categorical_accuracy: 0.7500\n",
            "Epoch 99/100\n",
            "70/70 [==============================] - 23s 331ms/step - loss: 0.8474 - categorical_accuracy: 0.7620\n",
            "Epoch 100/100\n",
            "70/70 [==============================] - 25s 352ms/step - loss: 0.8668 - categorical_accuracy: 0.7861\n",
            "Model: \"sequential_1\"\n",
            "_________________________________________________________________\n",
            "Layer (type)                 Output Shape              Param #   \n",
            "=================================================================\n",
            "dense_3 (Dense)              (None, 1600)              64720000  \n",
            "_________________________________________________________________\n",
            "dense_4 (Dense)              (None, 1600)              2561600   \n",
            "_________________________________________________________________\n",
            "dense_5 (Dense)              (None, 6)                 9606      \n",
            "=================================================================\n",
            "Total params: 67,291,206\n",
            "Trainable params: 67,291,206\n",
            "Non-trainable params: 0\n",
            "_________________________________________________________________\n",
            "Test Loss:  1.744380235671997\n",
            "Test Accuracy:  0.28776979446411133\n"
          ],
          "name": "stdout"
        }
      ]
    },
    {
      "cell_type": "code",
      "metadata": {
        "id": "cj8bQrRD62AQ",
        "colab_type": "code",
        "colab": {
          "base_uri": "https://localhost:8080/",
          "height": 123
        },
        "outputId": "e490bad3-38d5-4f2f-96c7-ae3d79e3b37f"
      },
      "source": [
        "# More Model Evaluation\n",
        "y_pred = model.predict(X_test)\n",
        "print(confusion_matrix(y_test.values.argmax(axis=1), y_pred.argmax(axis=1)))"
      ],
      "execution_count": 42,
      "outputs": [
        {
          "output_type": "stream",
          "text": [
            "[[ 3  2  2  1  2  8]\n",
            " [ 3  2  2  2  1  5]\n",
            " [ 0  0 12  2  1 16]\n",
            " [ 1  1  0  3  2 15]\n",
            " [ 1  1  3  2  3 15]\n",
            " [ 1  2  2  4  2 17]]\n"
          ],
          "name": "stdout"
        }
      ]
    },
    {
      "cell_type": "code",
      "metadata": {
        "id": "HnEOs1iWx09m",
        "colab_type": "code",
        "colab": {
          "base_uri": "https://localhost:8080/",
          "height": 247
        },
        "outputId": "060d07c7-edce-4c35-bed1-78b0262d29c8"
      },
      "source": [
        "print(classification_report(y_test.values.argmax(axis=1), y_pred.argmax(axis=1)))"
      ],
      "execution_count": 41,
      "outputs": [
        {
          "output_type": "stream",
          "text": [
            "              precision    recall  f1-score   support\n",
            "\n",
            "           0       0.33      0.17      0.22        18\n",
            "           1       0.25      0.13      0.17        15\n",
            "           2       0.57      0.39      0.46        31\n",
            "           3       0.21      0.14      0.17        22\n",
            "           4       0.27      0.12      0.17        25\n",
            "           5       0.22      0.61      0.33        28\n",
            "\n",
            "    accuracy                           0.29       139\n",
            "   macro avg       0.31      0.26      0.25       139\n",
            "weighted avg       0.33      0.29      0.27       139\n",
            "\n"
          ],
          "name": "stdout"
        }
      ]
    },
    {
      "cell_type": "code",
      "metadata": {
        "id": "OeRtAvDP9CWE",
        "colab_type": "code",
        "colab": {}
      },
      "source": [
        ""
      ],
      "execution_count": 0,
      "outputs": []
    }
  ]
}