{
 "cells": [
  {
   "cell_type": "code",
   "execution_count": null,
   "metadata": {},
   "outputs": [],
   "source": [
    "# Importing Libraries \n",
    "import warnings\n",
    "warnings.filterwarnings(\"ignore\")\n",
    "import numpy as np\n",
    "import pandas as pd\n",
    "import io\n",
    "import tensorflow as tf\n",
    "from tensorflow import keras\n",
    "from sklearn.model_selection import train_test_split\n",
    "from tensorflow.keras.models import Sequential \n",
    "from tensorflow.keras.layers import Dense\n",
    "from sklearn.metrics import confusion_matrix\n",
    "\n",
    "# Uploading data\n",
    "from google.colab import files\n",
    "uploaded = files.upload()"
   ]
  },
  {
   "cell_type": "code",
   "execution_count": null,
   "metadata": {},
   "outputs": [],
   "source": [
    "# Putting data into a pandas DataFrame\n",
    "img_df = pd.read_csv(io.BytesIO(uploaded['img_df.csv']))\n",
    "X = img_df.iloc[:, :-1]\n",
    "y = pd.get_dummies(img_df.iloc[:, -1:])\n",
    "X_train, X_test, y_train, y_test = train_test_split(X, y, test_size=.25)\n",
    "\n",
    "# Creating & Initiating Model\n",
    "model = keras.Sequential([keras.layers.Dense(1600, input_shape=(40449,), activation='relu'),\n",
    "                          keras.layers.Dense(1600, activation=\"relu\"),\n",
    "                          keras.layers.Dense(6, activation=\"softmax\")\n",
    "])\n",
    "\n",
    "model.compile(optimizer='Adadelta', loss='categorical_crossentropy', metrics=['categorical_accuracy'])\n",
    "\n",
    "# Setting up verbose=1 - prints out some results after each epoch\n",
    "model.fit(X_train, y_train, batch_size=6, epochs=100, verbose=1)\n",
    "\n",
    "# Model Evalution\n",
    "test_loss, test_acc = model.evaluate(X_test, y_test, verbose=0)\n",
    "\n",
    "model.summary()\n",
    "\n",
    "print(\"Test Loss: \", test_loss)\n",
    "print(\"Test Accuracy: \", test_acc)"
   ]
  },
  {
   "cell_type": "code",
   "execution_count": null,
   "metadata": {},
   "outputs": [],
   "source": [
    "# More Model Evaluation\n",
    "y_pred = model.predict_classes(X_test)\n",
    "den_mod = tf.math.confusion_matrix(labels = y_test, predictions = y_pred).np()"
   ]
  }
 ],
 "metadata": {
  "kernelspec": {
   "display_name": "Python 3",
   "language": "python",
   "name": "python3"
  },
  "language_info": {
   "codemirror_mode": {
    "name": "ipython",
    "version": 3
   },
   "file_extension": ".py",
   "mimetype": "text/x-python",
   "name": "python",
   "nbconvert_exporter": "python",
   "pygments_lexer": "ipython3",
   "version": "3.7.4"
  }
 },
 "nbformat": 4,
 "nbformat_minor": 4
}
