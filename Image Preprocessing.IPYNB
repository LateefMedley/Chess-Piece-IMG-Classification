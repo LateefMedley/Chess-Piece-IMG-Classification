{
 "cells": [
  {
   "cell_type": "markdown",
   "metadata": {},
   "source": [
    "# Image Preprocessing"
   ]
  },
  {
   "cell_type": "code",
   "execution_count": 13,
   "metadata": {},
   "outputs": [],
   "source": [
    "import numpy as np\n",
    "import pandas as pd\n",
    "from skimage.io import imread_collection\n",
    "from skimage.transform import resize\n",
    "from skimage.color import rgb2gray"
   ]
  },
  {
   "cell_type": "markdown",
   "metadata": {},
   "source": [
    "### Setting up the Structure of our Image Data\n",
    "\n",
    "Our data needs to be in a particular format in order to solve an image classification problem. This notebook takes our picture data and transforms it into greyscaled, 1 dimensional arrays that we can then use to model."
   ]
  },
  {
   "cell_type": "markdown",
   "metadata": {},
   "source": [
    "### Loading & Pre-processing Data\n",
    "\n",
    "Thanks to scikit-image (Imagine Hero Music!), This gives you a dataframe of bishops as grayscale, nicely resized (158x256) and each row as an image (thanks to ravel). \n",
    "\n",
    "Then all we need to do is replicate the following cell for the other chess pieces. \n",
    "\n",
    "After creating a dataframe from these images, I then save it as an csv and upload it into the other notebooks for modeling. "
   ]
  },
  {
   "cell_type": "code",
   "execution_count": 14,
   "metadata": {},
   "outputs": [],
   "source": [
    "# /* selects everything from that folder\n",
    "bishops = imread_collection(r\"C:\\Users\\latee\\Downloads\\chessman-image-dataset\\Chessman-image-dataset\\Chess\\Bishop/*\")\n",
    "\n",
    "# instantiate list of imgs\n",
    "big_list_of_bishops = []\n",
    "\n",
    "# loop through the folder bishops\n",
    "for img in bishops:\n",
    "    image_resized = resize(img, (158, 256))\n",
    "    image_grayscaled = rgb2gray(image_resized)\n",
    "    image_as_1d_vector = image_grayscaled.ravel()\n",
    "    big_list_of_bishops.append(image_as_1d_vector)\n",
    "\n",
    "bishops_df = pd.DataFrame(big_list_of_bishops)\n",
    "bishops_df['kind'] = 'bishop'"
   ]
  },
  {
   "cell_type": "code",
   "execution_count": 16,
   "metadata": {},
   "outputs": [],
   "source": [
    "kings = imread_collection(r\"C:\\Users\\latee\\Downloads\\chessman-image-dataset\\Chessman-image-dataset\\Chess\\King/*\")\n",
    "big_list_of_kings = []\n",
    "for img in kings:\n",
    "    image_resized = resize(img, (158, 256))\n",
    "    image_grayscaled = rgb2gray(image_resized)\n",
    "    image_as_1d_vector = image_grayscaled.ravel()\n",
    "    big_list_of_kings.append(image_as_1d_vector)\n",
    "kings_df = pd.DataFrame(big_list_of_kings)\n",
    "kings_df['kind'] = 'king'"
   ]
  },
  {
   "cell_type": "code",
   "execution_count": 18,
   "metadata": {},
   "outputs": [],
   "source": [
    "queens = imread_collection(r\"C:\\Users\\latee\\Downloads\\chessman-image-dataset\\Chessman-image-dataset\\Chess\\Queen/*\")\n",
    "big_list_of_queens = []\n",
    "for img in queens:\n",
    "    image_resized = resize(img, (158, 256))\n",
    "    image_grayscaled = rgb2gray(image_resized)\n",
    "    image_as_1d_vector = image_grayscaled.ravel()\n",
    "    big_list_of_queens.append(image_as_1d_vector)\n",
    "queens_df = pd.DataFrame(big_list_of_queens)\n",
    "queens_df['kind'] = 'queen'"
   ]
  },
  {
   "cell_type": "code",
   "execution_count": 19,
   "metadata": {},
   "outputs": [],
   "source": [
    "knights = imread_collection(r\"C:\\Users\\latee\\Downloads\\chessman-image-dataset\\Chessman-image-dataset\\Chess\\Knight/*\")\n",
    "big_list_of_knights = []\n",
    "for img in knights:\n",
    "    image_resized = resize(img, (158, 256))\n",
    "    image_grayscaled = rgb2gray(image_resized)\n",
    "    image_as_1d_vector = image_grayscaled.ravel()\n",
    "    big_list_of_knights.append(image_as_1d_vector)\n",
    "knights_df = pd.DataFrame(big_list_of_knights)\n",
    "knights_df['kind'] = 'knight'"
   ]
  },
  {
   "cell_type": "code",
   "execution_count": 20,
   "metadata": {},
   "outputs": [],
   "source": [
    "pawns = imread_collection(r\"C:\\Users\\latee\\Downloads\\chessman-image-dataset\\Chessman-image-dataset\\Chess\\Pawn/*\")\n",
    "big_list_of_pawns = []\n",
    "for img in pawns:\n",
    "    image_resized = resize(img, (158, 256))\n",
    "    image_grayscaled = rgb2gray(image_resized)\n",
    "    image_as_1d_vector = image_grayscaled.ravel()\n",
    "    big_list_of_pawns.append(image_as_1d_vector)\n",
    "pawns_df = pd.DataFrame(big_list_of_pawns)\n",
    "pawns_df['kind'] = 'pawn'"
   ]
  },
  {
   "cell_type": "code",
   "execution_count": 21,
   "metadata": {},
   "outputs": [],
   "source": [
    "rooks = imread_collection(r\"C:\\Users\\latee\\Downloads\\chessman-image-dataset\\Chessman-image-dataset\\Chess\\Rook/*\")\n",
    "big_list_of_rooks = []\n",
    "for img in rooks:\n",
    "    image_resized = resize(img, (158, 256))\n",
    "    image_grayscaled = rgb2gray(image_resized)\n",
    "    image_as_1d_vector = image_grayscaled.ravel()\n",
    "    big_list_of_rooks.append(image_as_1d_vector)\n",
    "rooks_df = pd.DataFrame(big_list_of_rooks)\n",
    "rooks_df['kind'] = 'rook'"
   ]
  },
  {
   "cell_type": "code",
   "execution_count": 22,
   "metadata": {},
   "outputs": [],
   "source": [
    "img_df = pd.concat([kings_df, queens_df, rooks_df, pawns_df, bishops_df, knights_df])"
   ]
  },
  {
   "cell_type": "code",
   "execution_count": 23,
   "metadata": {},
   "outputs": [],
   "source": [
    "img_df2 = img_df.sample(frac=1).reset_index(drop=True)"
   ]
  },
  {
   "cell_type": "code",
   "execution_count": 25,
   "metadata": {},
   "outputs": [
    {
     "data": {
      "text/html": [
       "<div>\n",
       "<style scoped>\n",
       "    .dataframe tbody tr th:only-of-type {\n",
       "        vertical-align: middle;\n",
       "    }\n",
       "\n",
       "    .dataframe tbody tr th {\n",
       "        vertical-align: top;\n",
       "    }\n",
       "\n",
       "    .dataframe thead th {\n",
       "        text-align: right;\n",
       "    }\n",
       "</style>\n",
       "<table border=\"1\" class=\"dataframe\">\n",
       "  <thead>\n",
       "    <tr style=\"text-align: right;\">\n",
       "      <th></th>\n",
       "      <th>0</th>\n",
       "      <th>1</th>\n",
       "      <th>2</th>\n",
       "      <th>3</th>\n",
       "      <th>4</th>\n",
       "      <th>5</th>\n",
       "      <th>6</th>\n",
       "      <th>7</th>\n",
       "      <th>8</th>\n",
       "      <th>9</th>\n",
       "      <th>...</th>\n",
       "      <th>65527</th>\n",
       "      <th>65528</th>\n",
       "      <th>65529</th>\n",
       "      <th>65530</th>\n",
       "      <th>65531</th>\n",
       "      <th>65532</th>\n",
       "      <th>65533</th>\n",
       "      <th>65534</th>\n",
       "      <th>65535</th>\n",
       "      <th>kind</th>\n",
       "    </tr>\n",
       "  </thead>\n",
       "  <tbody>\n",
       "    <tr>\n",
       "      <td>0</td>\n",
       "      <td>0.224723</td>\n",
       "      <td>0.217918</td>\n",
       "      <td>0.228842</td>\n",
       "      <td>0.214555</td>\n",
       "      <td>0.226845</td>\n",
       "      <td>0.225818</td>\n",
       "      <td>0.225890</td>\n",
       "      <td>0.225890</td>\n",
       "      <td>0.225890</td>\n",
       "      <td>0.225890</td>\n",
       "      <td>...</td>\n",
       "      <td>0.228016</td>\n",
       "      <td>0.228016</td>\n",
       "      <td>0.228016</td>\n",
       "      <td>0.224463</td>\n",
       "      <td>0.219480</td>\n",
       "      <td>0.230376</td>\n",
       "      <td>0.220251</td>\n",
       "      <td>0.228628</td>\n",
       "      <td>0.222184</td>\n",
       "      <td>king</td>\n",
       "    </tr>\n",
       "    <tr>\n",
       "      <td>1</td>\n",
       "      <td>0.131955</td>\n",
       "      <td>0.131955</td>\n",
       "      <td>0.131955</td>\n",
       "      <td>0.131955</td>\n",
       "      <td>0.129320</td>\n",
       "      <td>0.120037</td>\n",
       "      <td>0.123943</td>\n",
       "      <td>0.126798</td>\n",
       "      <td>0.121073</td>\n",
       "      <td>0.110477</td>\n",
       "      <td>...</td>\n",
       "      <td>0.177426</td>\n",
       "      <td>0.187653</td>\n",
       "      <td>0.193352</td>\n",
       "      <td>0.192474</td>\n",
       "      <td>0.185692</td>\n",
       "      <td>0.195679</td>\n",
       "      <td>0.202022</td>\n",
       "      <td>0.199869</td>\n",
       "      <td>0.196888</td>\n",
       "      <td>king</td>\n",
       "    </tr>\n",
       "    <tr>\n",
       "      <td>2</td>\n",
       "      <td>1.000000</td>\n",
       "      <td>1.000000</td>\n",
       "      <td>1.000000</td>\n",
       "      <td>1.000000</td>\n",
       "      <td>1.000000</td>\n",
       "      <td>1.000000</td>\n",
       "      <td>1.000000</td>\n",
       "      <td>1.000000</td>\n",
       "      <td>1.000000</td>\n",
       "      <td>1.000000</td>\n",
       "      <td>...</td>\n",
       "      <td>1.000000</td>\n",
       "      <td>1.000000</td>\n",
       "      <td>1.000000</td>\n",
       "      <td>1.000000</td>\n",
       "      <td>1.000000</td>\n",
       "      <td>1.000000</td>\n",
       "      <td>1.000000</td>\n",
       "      <td>1.000000</td>\n",
       "      <td>1.000000</td>\n",
       "      <td>king</td>\n",
       "    </tr>\n",
       "    <tr>\n",
       "      <td>3</td>\n",
       "      <td>0.996078</td>\n",
       "      <td>0.996078</td>\n",
       "      <td>0.996078</td>\n",
       "      <td>0.996078</td>\n",
       "      <td>0.996078</td>\n",
       "      <td>0.996078</td>\n",
       "      <td>0.996078</td>\n",
       "      <td>0.996078</td>\n",
       "      <td>0.996078</td>\n",
       "      <td>0.996078</td>\n",
       "      <td>...</td>\n",
       "      <td>0.071756</td>\n",
       "      <td>0.071756</td>\n",
       "      <td>0.071756</td>\n",
       "      <td>0.071756</td>\n",
       "      <td>0.071756</td>\n",
       "      <td>0.071756</td>\n",
       "      <td>0.071756</td>\n",
       "      <td>0.071756</td>\n",
       "      <td>0.071756</td>\n",
       "      <td>king</td>\n",
       "    </tr>\n",
       "    <tr>\n",
       "      <td>4</td>\n",
       "      <td>0.388068</td>\n",
       "      <td>0.387814</td>\n",
       "      <td>0.384436</td>\n",
       "      <td>0.379877</td>\n",
       "      <td>0.374571</td>\n",
       "      <td>0.371564</td>\n",
       "      <td>0.369600</td>\n",
       "      <td>0.366820</td>\n",
       "      <td>0.363788</td>\n",
       "      <td>0.362322</td>\n",
       "      <td>...</td>\n",
       "      <td>0.788236</td>\n",
       "      <td>0.795794</td>\n",
       "      <td>0.801840</td>\n",
       "      <td>0.803012</td>\n",
       "      <td>0.798857</td>\n",
       "      <td>0.782960</td>\n",
       "      <td>0.767002</td>\n",
       "      <td>0.750948</td>\n",
       "      <td>0.749741</td>\n",
       "      <td>king</td>\n",
       "    </tr>\n",
       "  </tbody>\n",
       "</table>\n",
       "<p>5 rows × 65537 columns</p>\n",
       "</div>"
      ],
      "text/plain": [
       "          0         1         2         3         4         5         6  \\\n",
       "0  0.224723  0.217918  0.228842  0.214555  0.226845  0.225818  0.225890   \n",
       "1  0.131955  0.131955  0.131955  0.131955  0.129320  0.120037  0.123943   \n",
       "2  1.000000  1.000000  1.000000  1.000000  1.000000  1.000000  1.000000   \n",
       "3  0.996078  0.996078  0.996078  0.996078  0.996078  0.996078  0.996078   \n",
       "4  0.388068  0.387814  0.384436  0.379877  0.374571  0.371564  0.369600   \n",
       "\n",
       "          7         8         9  ...     65527     65528     65529     65530  \\\n",
       "0  0.225890  0.225890  0.225890  ...  0.228016  0.228016  0.228016  0.224463   \n",
       "1  0.126798  0.121073  0.110477  ...  0.177426  0.187653  0.193352  0.192474   \n",
       "2  1.000000  1.000000  1.000000  ...  1.000000  1.000000  1.000000  1.000000   \n",
       "3  0.996078  0.996078  0.996078  ...  0.071756  0.071756  0.071756  0.071756   \n",
       "4  0.366820  0.363788  0.362322  ...  0.788236  0.795794  0.801840  0.803012   \n",
       "\n",
       "      65531     65532     65533     65534     65535  kind  \n",
       "0  0.219480  0.230376  0.220251  0.228628  0.222184  king  \n",
       "1  0.185692  0.195679  0.202022  0.199869  0.196888  king  \n",
       "2  1.000000  1.000000  1.000000  1.000000  1.000000  king  \n",
       "3  0.071756  0.071756  0.071756  0.071756  0.071756  king  \n",
       "4  0.798857  0.782960  0.767002  0.750948  0.749741  king  \n",
       "\n",
       "[5 rows x 65537 columns]"
      ]
     },
     "execution_count": 25,
     "metadata": {},
     "output_type": "execute_result"
    }
   ],
   "source": [
    "img_df.head()"
   ]
  },
  {
   "cell_type": "code",
   "execution_count": 14,
   "metadata": {},
   "outputs": [
    {
     "name": "stdout",
     "output_type": "stream",
     "text": [
      "<class 'pandas.core.frame.DataFrame'>\n",
      "Int64Index: 555 entries, 0 to 104\n",
      "Columns: 40449 entries, 0 to kind\n",
      "dtypes: float64(40448), object(1)\n",
      "memory usage: 171.3+ MB\n"
     ]
    }
   ],
   "source": [
    "img_df.info()"
   ]
  },
  {
   "cell_type": "code",
   "execution_count": 24,
   "metadata": {},
   "outputs": [],
   "source": [
    "img_df2.to_csv(r'C:\\Users\\latee\\Documents\\GitHub\\Identifying Chess Pieces\\img_df_256_256.csv')"
   ]
  }
 ],
 "metadata": {
  "kernelspec": {
   "display_name": "Python 3",
   "language": "python",
   "name": "python3"
  },
  "language_info": {
   "codemirror_mode": {
    "name": "ipython",
    "version": 3
   },
   "file_extension": ".py",
   "mimetype": "text/x-python",
   "name": "python",
   "nbconvert_exporter": "python",
   "pygments_lexer": "ipython3",
   "version": "3.7.4"
  }
 },
 "nbformat": 4,
 "nbformat_minor": 4
}
